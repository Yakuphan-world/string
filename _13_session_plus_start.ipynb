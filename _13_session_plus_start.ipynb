{
  "nbformat": 4,
  "nbformat_minor": 0,
  "metadata": {
    "colab": {
      "provenance": []
    },
    "kernelspec": {
      "name": "python3",
      "display_name": "Python 3"
    },
    "language_info": {
      "name": "python"
    }
  },
  "cells": [
    {
      "cell_type": "code",
      "source": [
        "def carp(a,b):\n",
        "    return a*b"
      ],
      "metadata": {
        "id": "9CVMZn6VuBAf"
      },
      "execution_count": 2,
      "outputs": []
    },
    {
      "cell_type": "code",
      "execution_count": 4,
      "metadata": {
        "colab": {
          "base_uri": "https://localhost:8080/"
        },
        "id": "FTvYLM1EtqSU",
        "outputId": "a03eeccd-f190-4f90-a9cf-2d9ced67d8e7"
      },
      "outputs": [
        {
          "output_type": "stream",
          "name": "stdout",
          "text": [
            "15\n",
            "20\n",
            "48\n"
          ]
        }
      ],
      "source": [
        "a = 3\n",
        "b = 5\n",
        "print(carp(a,b))\n",
        "print(carp(4,5))\n",
        "print(carp(6,8))"
      ]
    },
    {
      "cell_type": "code",
      "source": [
        "pow(a,b)"
      ],
      "metadata": {
        "colab": {
          "base_uri": "https://localhost:8080/"
        },
        "id": "b2BUvVWluZDG",
        "outputId": "3c9b04c6-091e-4d53-c41e-5d476d058080"
      },
      "execution_count": 5,
      "outputs": [
        {
          "output_type": "execute_result",
          "data": {
            "text/plain": [
              "243"
            ]
          },
          "metadata": {},
          "execution_count": 5
        }
      ]
    },
    {
      "cell_type": "code",
      "source": [
        "pow(3,5)"
      ],
      "metadata": {
        "colab": {
          "base_uri": "https://localhost:8080/"
        },
        "id": "K85Z0Ab4ucjG",
        "outputId": "69d624cf-2b93-431e-ba8a-e86c9621eb8d"
      },
      "execution_count": 6,
      "outputs": [
        {
          "output_type": "execute_result",
          "data": {
            "text/plain": [
              "243"
            ]
          },
          "metadata": {},
          "execution_count": 6
        }
      ]
    },
    {
      "cell_type": "code",
      "source": [
        "def my_pow(a,b):\n",
        "    return a**b"
      ],
      "metadata": {
        "id": "HFj4FCAougYd"
      },
      "execution_count": 8,
      "outputs": []
    },
    {
      "cell_type": "code",
      "source": [
        "my_pow(3,5)"
      ],
      "metadata": {
        "colab": {
          "base_uri": "https://localhost:8080/"
        },
        "id": "4VnuSWCLumpq",
        "outputId": "7cdbda3b-0350-425d-9a32-da8a9f05feaa"
      },
      "execution_count": 9,
      "outputs": [
        {
          "output_type": "execute_result",
          "data": {
            "text/plain": [
              "243"
            ]
          },
          "metadata": {},
          "execution_count": 9
        }
      ]
    },
    {
      "cell_type": "code",
      "source": [
        "listem = [\"ali\", 24, [\"a\",\"b\",\"c\"], (3,4,5),\"veli\"]\n",
        "all(listem)"
      ],
      "metadata": {
        "colab": {
          "base_uri": "https://localhost:8080/"
        },
        "id": "HmwsVlPevAOb",
        "outputId": "5bc915e6-01fb-4e99-b347-71718f63ed2c"
      },
      "execution_count": 10,
      "outputs": [
        {
          "output_type": "execute_result",
          "data": {
            "text/plain": [
              "True"
            ]
          },
          "metadata": {},
          "execution_count": 10
        }
      ]
    },
    {
      "cell_type": "code",
      "source": [
        "listem = [\"ali\", 0, [\"a\",\"b\",\"c\"], (3,4,5),\"veli\"]\n",
        "all(listem)"
      ],
      "metadata": {
        "colab": {
          "base_uri": "https://localhost:8080/"
        },
        "id": "FaIaenCNvQQy",
        "outputId": "9b947ca3-ddcf-450b-d04d-645a120f58e3"
      },
      "execution_count": 11,
      "outputs": [
        {
          "output_type": "execute_result",
          "data": {
            "text/plain": [
              "False"
            ]
          },
          "metadata": {},
          "execution_count": 11
        }
      ]
    },
    {
      "cell_type": "code",
      "source": [
        "def my_all(iterable):\n",
        "    for element in iterable:\n",
        "        if not element:\n",
        "            return False\n",
        "    return True"
      ],
      "metadata": {
        "id": "NJvJiHpYvVZH"
      },
      "execution_count": 12,
      "outputs": []
    },
    {
      "cell_type": "code",
      "source": [
        "listem = [\"ali\", 10, [\"a\",\"b\",\"c\"], (3,4,5),\"veli\"]\n",
        "my_all(listem)"
      ],
      "metadata": {
        "colab": {
          "base_uri": "https://localhost:8080/"
        },
        "id": "bYEpgmk2vYk-",
        "outputId": "e613f537-fa28-438a-c2c6-712921f2449c"
      },
      "execution_count": 14,
      "outputs": [
        {
          "output_type": "execute_result",
          "data": {
            "text/plain": [
              "True"
            ]
          },
          "metadata": {},
          "execution_count": 14
        }
      ]
    },
    {
      "cell_type": "code",
      "source": [
        "help(print)"
      ],
      "metadata": {
        "colab": {
          "base_uri": "https://localhost:8080/"
        },
        "id": "pCYlPJvVvyTO",
        "outputId": "ce433ef8-23b1-4c99-b9e0-83ffc7fb4640"
      },
      "execution_count": 15,
      "outputs": [
        {
          "output_type": "stream",
          "name": "stdout",
          "text": [
            "Help on built-in function print in module builtins:\n",
            "\n",
            "print(...)\n",
            "    print(value, ..., sep=' ', end='\\n', file=sys.stdout, flush=False)\n",
            "    \n",
            "    Prints the values to a stream, or to sys.stdout by default.\n",
            "    Optional keyword arguments:\n",
            "    file:  a file-like object (stream); defaults to the current sys.stdout.\n",
            "    sep:   string inserted between values, default a space.\n",
            "    end:   string appended after the last value, default a newline.\n",
            "    flush: whether to forcibly flush the stream.\n",
            "\n"
          ]
        }
      ]
    },
    {
      "cell_type": "code",
      "source": [
        "print(9,5)\n",
        "print()\n",
        "print(\"hello\")"
      ],
      "metadata": {
        "colab": {
          "base_uri": "https://localhost:8080/"
        },
        "id": "7jkh1f2-wUcR",
        "outputId": "b41c4927-c02f-413f-b50c-711542ecff9b"
      },
      "execution_count": 18,
      "outputs": [
        {
          "output_type": "stream",
          "name": "stdout",
          "text": [
            "9 5\n",
            "\n",
            "hello\n"
          ]
        }
      ]
    },
    {
      "cell_type": "code",
      "source": [
        "!python --version"
      ],
      "metadata": {
        "colab": {
          "base_uri": "https://localhost:8080/"
        },
        "id": "VxnwHHB-w0aj",
        "outputId": "19ebc735-12e5-4b3e-d371-6d678f2e8453"
      },
      "execution_count": 22,
      "outputs": [
        {
          "output_type": "stream",
          "name": "stdout",
          "text": [
            "Python 3.7.15\n"
          ]
        }
      ]
    },
    {
      "cell_type": "code",
      "source": [
        "import builtins\n",
        "dir(__builtins__)"
      ],
      "metadata": {
        "id": "-hPfNbR3xFRx"
      },
      "execution_count": null,
      "outputs": []
    },
    {
      "cell_type": "code",
      "source": [
        "listem = [\"ali\", 0, [\"a\",\"b\",\"c\"], (3,4,5),\"veli\"]\n",
        "any(listem)"
      ],
      "metadata": {
        "colab": {
          "base_uri": "https://localhost:8080/"
        },
        "id": "In1e_reqyEzW",
        "outputId": "69278559-b528-4f0d-922b-07a85a1e3384"
      },
      "execution_count": 32,
      "outputs": [
        {
          "output_type": "execute_result",
          "data": {
            "text/plain": [
              "True"
            ]
          },
          "metadata": {},
          "execution_count": 32
        }
      ]
    },
    {
      "cell_type": "code",
      "source": [
        "listem = [\"ali\", 0, 0, 0, False]\n",
        "any(listem)"
      ],
      "metadata": {
        "colab": {
          "base_uri": "https://localhost:8080/"
        },
        "id": "IovBYdlwyOH9",
        "outputId": "4cb524ae-ecf6-42f9-b0cb-bea14323c144"
      },
      "execution_count": 34,
      "outputs": [
        {
          "output_type": "execute_result",
          "data": {
            "text/plain": [
              "True"
            ]
          },
          "metadata": {},
          "execution_count": 34
        }
      ]
    },
    {
      "cell_type": "code",
      "source": [
        "listem = [\"\", 0, None]\n",
        "any(listem)"
      ],
      "metadata": {
        "colab": {
          "base_uri": "https://localhost:8080/"
        },
        "id": "OR0EhofdyH8A",
        "outputId": "87702d06-2295-4ae9-9031-9d28357a2207"
      },
      "execution_count": 33,
      "outputs": [
        {
          "output_type": "execute_result",
          "data": {
            "text/plain": [
              "False"
            ]
          },
          "metadata": {},
          "execution_count": 33
        }
      ]
    },
    {
      "cell_type": "code",
      "source": [
        "callable(print)"
      ],
      "metadata": {
        "colab": {
          "base_uri": "https://localhost:8080/"
        },
        "id": "FWgqSwVXykp7",
        "outputId": "98eb3900-6a45-42e3-dcac-dcfcfa0964e5"
      },
      "execution_count": 35,
      "outputs": [
        {
          "output_type": "execute_result",
          "data": {
            "text/plain": [
              "True"
            ]
          },
          "metadata": {},
          "execution_count": 35
        }
      ]
    },
    {
      "cell_type": "code",
      "source": [
        "a=3\n",
        "callable(a)"
      ],
      "metadata": {
        "colab": {
          "base_uri": "https://localhost:8080/"
        },
        "id": "CX9XcZhTynQw",
        "outputId": "8875d5be-fb59-4521-af9d-7734830740d8"
      },
      "execution_count": 36,
      "outputs": [
        {
          "output_type": "execute_result",
          "data": {
            "text/plain": [
              "False"
            ]
          },
          "metadata": {},
          "execution_count": 36
        }
      ]
    },
    {
      "cell_type": "code",
      "source": [
        "round(5.6)"
      ],
      "metadata": {
        "colab": {
          "base_uri": "https://localhost:8080/"
        },
        "id": "wJUFkY2TzYGA",
        "outputId": "a779909a-8c1f-4ff3-8070-971362d55581"
      },
      "execution_count": 37,
      "outputs": [
        {
          "output_type": "execute_result",
          "data": {
            "text/plain": [
              "6"
            ]
          },
          "metadata": {},
          "execution_count": 37
        }
      ]
    },
    {
      "cell_type": "code",
      "source": [
        "round(5.4)"
      ],
      "metadata": {
        "colab": {
          "base_uri": "https://localhost:8080/"
        },
        "id": "qR6ccKXEza3I",
        "outputId": "81f33420-2c45-45a6-9b37-8ec49f45fda0"
      },
      "execution_count": 38,
      "outputs": [
        {
          "output_type": "execute_result",
          "data": {
            "text/plain": [
              "5"
            ]
          },
          "metadata": {},
          "execution_count": 38
        }
      ]
    },
    {
      "cell_type": "code",
      "source": [
        "names = [\"susan\", \"tom\", \"False\"]\n",
        "mood = [\"happy\", \"sad\", 0]\n",
        "empty = {}\n",
        "print(all(names), all(mood), all(empty), sep=\"\\n\")"
      ],
      "metadata": {
        "colab": {
          "base_uri": "https://localhost:8080/"
        },
        "id": "OAcwKB7J3sNO",
        "outputId": "fc20e250-148f-4c46-93b4-dd399026ae01"
      },
      "execution_count": 39,
      "outputs": [
        {
          "output_type": "stream",
          "name": "stdout",
          "text": [
            "True\n",
            "False\n",
            "True\n"
          ]
        }
      ]
    },
    {
      "cell_type": "code",
      "source": [
        "listA = [\"susan\", \"tom\", False]\n",
        "listB = [None, (), 0]\n",
        "empty = {}\n",
        "print(any(listA), any(listB), any(empty), sep=\"\\n\")"
      ],
      "metadata": {
        "colab": {
          "base_uri": "https://localhost:8080/"
        },
        "id": "422dgHfk3sLD",
        "outputId": "15cb913d-68dc-47b0-a353-841694b3c93d"
      },
      "execution_count": 40,
      "outputs": [
        {
          "output_type": "stream",
          "name": "stdout",
          "text": [
            "True\n",
            "False\n",
            "False\n"
          ]
        }
      ]
    },
    {
      "cell_type": "code",
      "source": [
        "listA = [\"susan\", \"tom\", False, 0 ,\"0\"]\n",
        "filtered_list = filter(None, listA)\n",
        "for i in filtered_list:\n",
        "    print(i)"
      ],
      "metadata": {
        "colab": {
          "base_uri": "https://localhost:8080/"
        },
        "id": "TTsmMhBc5izp",
        "outputId": "b9a6a929-3996-423c-b248-3788443ca1ca"
      },
      "execution_count": 41,
      "outputs": [
        {
          "output_type": "stream",
          "name": "stdout",
          "text": [
            "susan\n",
            "tom\n",
            "0\n"
          ]
        }
      ]
    },
    {
      "cell_type": "code",
      "source": [
        "listA = [\"susan\", \"tom\", \"0\", (2,3,4)]\n",
        "filtered_list = filter(len, listA)\n",
        "for i in filtered_list:\n",
        "    print(i)"
      ],
      "metadata": {
        "colab": {
          "base_uri": "https://localhost:8080/"
        },
        "id": "7_B9jy7u57Oa",
        "outputId": "3cce8ca4-a5e8-4550-dff1-15da95269237"
      },
      "execution_count": 43,
      "outputs": [
        {
          "output_type": "stream",
          "name": "stdout",
          "text": [
            "susan\n",
            "tom\n",
            "0\n",
            "(2, 3, 4)\n"
          ]
        }
      ]
    },
    {
      "cell_type": "code",
      "source": [
        "listA = [\"susan\", \"tom\", False, 0 ,\"0\"]\n",
        "enum_list = enumerate(listA)\n",
        "print(type(enum_list))\n",
        "print(list(enum_list))\n",
        "print(type(list(enum_list)))\n",
        "enum_ilk = list(enum_list)\n",
        "print(enum_ilk)"
      ],
      "metadata": {
        "colab": {
          "base_uri": "https://localhost:8080/"
        },
        "id": "nIfsSFhj62Uy",
        "outputId": "d9539620-6e1c-430e-9077-3825368bffb8"
      },
      "execution_count": 56,
      "outputs": [
        {
          "output_type": "stream",
          "name": "stdout",
          "text": [
            "<class 'enumerate'>\n",
            "[(0, 'susan'), (1, 'tom'), (2, False), (3, 0), (4, '0')]\n",
            "<class 'list'>\n",
            "[]\n"
          ]
        }
      ]
    },
    {
      "cell_type": "code",
      "source": [
        "grocery =['bread','water','olive']\n",
        "enum_grocery = enumerate(grocery)\n",
        "print(type(enum_grocery))\n",
        "print(list(enum_grocery))\n",
        "ebun_grocery = enumerate(grocery,10)\n",
        "print(list(ebun_grocery))"
      ],
      "metadata": {
        "colab": {
          "base_uri": "https://localhost:8080/"
        },
        "id": "hdGGtuBK8VrH",
        "outputId": "9121832b-06e1-443e-b1bb-80c95bbcfddb"
      },
      "execution_count": 57,
      "outputs": [
        {
          "output_type": "stream",
          "name": "stdout",
          "text": [
            "<class 'enumerate'>\n",
            "[(0, 'bread'), (1, 'water'), (2, 'olive')]\n",
            "[(10, 'bread'), (11, 'water'), (12, 'olive')]\n"
          ]
        }
      ]
    },
    {
      "cell_type": "code",
      "source": [
        "nums = [2.5, 6, -7]\n",
        "sum(nums)"
      ],
      "metadata": {
        "colab": {
          "base_uri": "https://localhost:8080/"
        },
        "id": "8s9bcu5i9NyD",
        "outputId": "30195fe6-c992-47fd-c052-28fc3b53318d"
      },
      "execution_count": 58,
      "outputs": [
        {
          "output_type": "execute_result",
          "data": {
            "text/plain": [
              "1.5"
            ]
          },
          "metadata": {},
          "execution_count": 58
        }
      ]
    },
    {
      "cell_type": "code",
      "source": [
        "nums = [2.5, 6, -7]\n",
        "toplam = 0\n",
        "for i in nums:\n",
        "    toplam = toplam + i\n",
        "\n",
        "print(toplam)"
      ],
      "metadata": {
        "colab": {
          "base_uri": "https://localhost:8080/"
        },
        "id": "wXz5Ug3g9Vqt",
        "outputId": "667ab1eb-2366-4782-9ade-fe7bb67d34a2"
      },
      "execution_count": 59,
      "outputs": [
        {
          "output_type": "stream",
          "name": "stdout",
          "text": [
            "1.5\n"
          ]
        }
      ]
    },
    {
      "cell_type": "code",
      "source": [
        "nums = [2.5, 6, -7]\n",
        "toplam = 20\n",
        "for i in nums:\n",
        "    toplam = toplam + i\n",
        "\n",
        "print(toplam)"
      ],
      "metadata": {
        "colab": {
          "base_uri": "https://localhost:8080/"
        },
        "id": "Z2RisWXJ9mOc",
        "outputId": "80bcb3eb-775d-4078-b916-3536b7b9480f"
      },
      "execution_count": 60,
      "outputs": [
        {
          "output_type": "stream",
          "name": "stdout",
          "text": [
            "21.5\n"
          ]
        }
      ]
    },
    {
      "cell_type": "code",
      "source": [
        "nums = [2.5, 6, -7]\n",
        "sum(nums, 20)"
      ],
      "metadata": {
        "colab": {
          "base_uri": "https://localhost:8080/"
        },
        "id": "ByYgYWrj9pXs",
        "outputId": "24ce23d7-b3a0-4638-d4e4-62b2fd3607fa"
      },
      "execution_count": 61,
      "outputs": [
        {
          "output_type": "execute_result",
          "data": {
            "text/plain": [
              "21.5"
            ]
          },
          "metadata": {},
          "execution_count": 61
        }
      ]
    },
    {
      "cell_type": "code",
      "source": [
        "round(12)"
      ],
      "metadata": {
        "colab": {
          "base_uri": "https://localhost:8080/"
        },
        "id": "yzq73oAy-HGc",
        "outputId": "f04ad0a8-dc32-4ccc-81ca-d02f7a4eabed"
      },
      "execution_count": 62,
      "outputs": [
        {
          "output_type": "execute_result",
          "data": {
            "text/plain": [
              "12"
            ]
          },
          "metadata": {},
          "execution_count": 62
        }
      ]
    },
    {
      "cell_type": "code",
      "source": [
        "round(10.8)"
      ],
      "metadata": {
        "colab": {
          "base_uri": "https://localhost:8080/"
        },
        "id": "ueQc3AOG-Jg3",
        "outputId": "380cd1ba-f37b-4b99-d8e2-7aa0281b8023"
      },
      "execution_count": 63,
      "outputs": [
        {
          "output_type": "execute_result",
          "data": {
            "text/plain": [
              "11"
            ]
          },
          "metadata": {},
          "execution_count": 63
        }
      ]
    },
    {
      "cell_type": "code",
      "source": [
        "round(3.665, 2)"
      ],
      "metadata": {
        "colab": {
          "base_uri": "https://localhost:8080/"
        },
        "id": "WyQa3lbe-N9q",
        "outputId": "8bf19fe2-00e2-4880-b0ab-2a1a13d6a657"
      },
      "execution_count": 64,
      "outputs": [
        {
          "output_type": "execute_result",
          "data": {
            "text/plain": [
              "3.67"
            ]
          },
          "metadata": {},
          "execution_count": 64
        }
      ]
    },
    {
      "cell_type": "code",
      "source": [
        "round(3.6750, 2)"
      ],
      "metadata": {
        "colab": {
          "base_uri": "https://localhost:8080/"
        },
        "id": "pZwqtwiX-VX9",
        "outputId": "df297ce1-9669-4fa4-d573-15ae60bae38b"
      },
      "execution_count": 67,
      "outputs": [
        {
          "output_type": "execute_result",
          "data": {
            "text/plain": [
              "3.67"
            ]
          },
          "metadata": {},
          "execution_count": 67
        }
      ]
    },
    {
      "cell_type": "code",
      "source": [
        "round(3.6751, 2)"
      ],
      "metadata": {
        "colab": {
          "base_uri": "https://localhost:8080/"
        },
        "id": "CxVC0-N0-tJW",
        "outputId": "52611eea-4295-4bef-ebf2-3a79e2781c03"
      },
      "execution_count": 66,
      "outputs": [
        {
          "output_type": "execute_result",
          "data": {
            "text/plain": [
              "3.68"
            ]
          },
          "metadata": {},
          "execution_count": 66
        }
      ]
    },
    {
      "cell_type": "code",
      "source": [
        "round(6751, -1) #en yakın onluğa"
      ],
      "metadata": {
        "colab": {
          "base_uri": "https://localhost:8080/"
        },
        "id": "2LCYOgTa-7dH",
        "outputId": "d160bd1f-2182-445c-c97f-a8f4f2144340"
      },
      "execution_count": 68,
      "outputs": [
        {
          "output_type": "execute_result",
          "data": {
            "text/plain": [
              "6750"
            ]
          },
          "metadata": {},
          "execution_count": 68
        }
      ]
    },
    {
      "cell_type": "code",
      "source": [
        "round(6751, -2) #en yakın yüzlüğe"
      ],
      "metadata": {
        "colab": {
          "base_uri": "https://localhost:8080/"
        },
        "id": "4qejVsg7_CGb",
        "outputId": "bc141e55-2845-428f-8b7a-766e353fc94f"
      },
      "execution_count": 69,
      "outputs": [
        {
          "output_type": "execute_result",
          "data": {
            "text/plain": [
              "6800"
            ]
          },
          "metadata": {},
          "execution_count": 69
        }
      ]
    },
    {
      "cell_type": "code",
      "source": [
        "round(6751, -3) #en yakın binliğe"
      ],
      "metadata": {
        "colab": {
          "base_uri": "https://localhost:8080/"
        },
        "id": "_Tfha4MA_Ghk",
        "outputId": "24499774-0fc6-470c-f620-fb49bb93d46b"
      },
      "execution_count": 70,
      "outputs": [
        {
          "output_type": "execute_result",
          "data": {
            "text/plain": [
              "7000"
            ]
          },
          "metadata": {},
          "execution_count": 70
        }
      ]
    },
    {
      "cell_type": "code",
      "source": [
        "# Task-21: \n",
        "# stopwatch (runs for 24 hours then resets)\n",
        "import time\n",
        "hours = 0\n",
        "minutes = 0\n",
        "seconds = 0\n",
        "while hours < 24: #gün döngüsü\n",
        "    for i in range(24): #saat sayacı\n",
        "        hours = i\n",
        "        for j in range(60): # dakika sayacı\n",
        "            minutes = j\n",
        "            for k in range(60): #saniye sayacı\n",
        "                seconds = k\n",
        "                time.sleep(1) #1 sn bekle\n",
        "                print(f\"'\\r{hours:02}:{minutes:02}:{seconds:02}\", end=\"\")\n",
        "                #\\r : escape karakteri: ASCII Carriage Return (CR)"
      ],
      "metadata": {
        "id": "I-sxBcHBAIjD"
      },
      "execution_count": null,
      "outputs": []
    }
  ]
}